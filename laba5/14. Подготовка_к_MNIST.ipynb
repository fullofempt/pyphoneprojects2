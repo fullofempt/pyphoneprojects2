{
  "nbformat": 4,
  "nbformat_minor": 0,
  "metadata": {
    "colab": {
      "provenance": []
    },
    "kernelspec": {
      "name": "python3",
      "display_name": "Python 3"
    },
    "language_info": {
      "name": "python"
    }
  },
  "cells": [
    {
      "cell_type": "markdown",
      "source": [
        "## Загрузка и подготовка данных"
      ],
      "metadata": {
        "id": "mkv2Vsfl2mLz"
      }
    },
    {
      "cell_type": "code",
      "execution_count": null,
      "metadata": {
        "id": "JwhNBo71Vvej"
      },
      "outputs": [],
      "source": [
        "import numpy as np\n",
        "import tensorflow as tf\n",
        "from tensorflow.keras.datasets import fashion_mnist\n",
        "from tensorflow.keras.utils import to_categorical\n",
        "\n",
        "# Загрузка данных\n",
        "(X_train, y_train), (X_test, y_test) = fashion_mnist.load_data()\n",
        "\n",
        "# Преобразование меток классов в one-hot векторы\n",
        "y_train = to_categorical(y_train, num_classes=10)\n",
        "y_test = to_categorical(y_test, num_classes=10)\n",
        "\n",
        "# Нормализация данных\n",
        "X_train = X_train.astype('float32') / 255.0\n",
        "X_test = X_test.astype('float32') / 255.0\n",
        "\n",
        "# Изменение формы данных для совместимости с Keras\n",
        "X_train = np.expand_dims(X_train, -1)\n",
        "X_test = np.expand_dims(X_test, -1)\n",
        "\n",
        "\n"
      ]
    },
    {
      "cell_type": "markdown",
      "source": [
        "## Построение, обучение и оценка модели"
      ],
      "metadata": {
        "id": "S1r5KiCP2sue"
      }
    },
    {
      "cell_type": "code",
      "source": [
        "from tensorflow.keras.models import Sequential\n",
        "from tensorflow.keras.layers import Conv2D, MaxPooling2D, Dropout, Flatten, Dense\n",
        "\n",
        "model = Sequential()\n",
        "model.add(Conv2D(32, kernel_size=(3, 3), activation='relu', input_shape=(28, 28, 1)))\n",
        "model.add(MaxPooling2D(pool_size=(2, 2)))\n",
        "model.add(Dropout(0.25))\n",
        "model.add(Flatten())\n",
        "model.add(Dense(128, activation='relu'))\n",
        "model.add(Dropout(0.5))\n",
        "model.add(Dense(10, activation='softmax'))\n"
      ],
      "metadata": {
        "id": "_Vo5CauOg2L1"
      },
      "execution_count": null,
      "outputs": []
    },
    {
      "cell_type": "code",
      "source": [
        "optimizer = 'adam'\n",
        "loss = 'categorical_crossentropy'\n",
        "metrics = ['accuracy']\n",
        "model.compile(optimizer=optimizer, loss=loss, metrics=metrics)\n"
      ],
      "metadata": {
        "id": "SiikvSsHhD5k"
      },
      "execution_count": null,
      "outputs": []
    },
    {
      "cell_type": "code",
      "source": [
        "epochs = 10\n",
        "batch_size = 128\n",
        "history = model.fit(X_train, y_train, batch_size=batch_size, epochs=epochs)\n"
      ],
      "metadata": {
        "id": "KMBEWUsJhSSA"
      },
      "execution_count": null,
      "outputs": []
    },
    {
      "cell_type": "code",
      "source": [
        "test_loss, test_accuracy = model.evaluate(X_test, y_test)\n",
        "print(\"Точность на тестовых данных:\", test_accuracy)\n"
      ],
      "metadata": {
        "id": "w6D3AXHvhdV8"
      },
      "execution_count": null,
      "outputs": []
    },
    {
      "cell_type": "code",
      "source": [
        "pred = model.predict(X_test)"
      ],
      "metadata": {
        "id": "tkT8-_Bfj-KJ"
      },
      "execution_count": null,
      "outputs": []
    },
    {
      "cell_type": "code",
      "source": [
        "import matplotlib.pyplot as plt\n",
        "plt.imshow(X_test[0])"
      ],
      "metadata": {
        "id": "8LCP6eqNkRM6"
      },
      "execution_count": null,
      "outputs": []
    },
    {
      "cell_type": "code",
      "source": [
        "y_test[0]"
      ],
      "metadata": {
        "id": "2_tO1qe_pGWh"
      },
      "execution_count": null,
      "outputs": []
    },
    {
      "cell_type": "code",
      "source": [
        "pred[0]"
      ],
      "metadata": {
        "id": "F5XhBjizpMTM"
      },
      "execution_count": null,
      "outputs": []
    },
    {
      "cell_type": "code",
      "source": [
        "import numpy as np\n",
        "\n",
        "# Создаем список с русскими названиями классов\n",
        "class_names_rus = [\n",
        "    \"Футболка/топ\",\n",
        "    \"Брюки\",\n",
        "    \"Пуловер\",\n",
        "    \"Платье\",\n",
        "    \"Пальто\",\n",
        "    \"Сандали\",\n",
        "    \"Рубашка\",\n",
        "    \"Кроссовки\",\n",
        "    \"Сумка\",\n",
        "    \"Ботинки\"\n",
        "]\n",
        "\n",
        "# Возьмем первое предсказание из тестовых данных\n",
        "\n",
        "# Находим индекс максимального значения в массиве с помощью argmax()\n",
        "class_index = np.argmax(pred[0])\n",
        "\n",
        "# Выводим русское название класса согласно найденному индексу\n",
        "print(class_names_rus[class_index])\n"
      ],
      "metadata": {
        "id": "q2eSB236qozZ"
      },
      "execution_count": null,
      "outputs": []
    },
    {
      "cell_type": "code",
      "source": [
        "print(class_names_rus[y_test[0]])"
      ],
      "metadata": {
        "id": "pmvDB4jW3TeB"
      },
      "execution_count": null,
      "outputs": []
    },
    {
      "cell_type": "markdown",
      "source": [
        "## Визуализация модели и работы ее отдельных слоев"
      ],
      "metadata": {
        "id": "7IXfRAk-3ViW"
      }
    },
    {
      "cell_type": "code",
      "source": [
        "from tensorflow.keras.utils import plot_model\n",
        "\n",
        "# Визуализируем архитектуру модели\n",
        "plot_model(model, show_shapes=True, show_layer_names=True, dpi=96, to_file='model.png')\n"
      ],
      "metadata": {
        "id": "qdAq___-uo07"
      },
      "execution_count": null,
      "outputs": []
    },
    {
      "cell_type": "code",
      "source": [
        "import matplotlib.pyplot as plt\n",
        "\n",
        "def visualize_layer_activations(model, input_image, layer_names):\n",
        "    activation_model = tf.keras.models.Model(inputs=model.inputs, outputs=[layer.output for layer in model.layers])\n",
        "    activations = activation_model.predict(input_image)\n",
        "\n",
        "    for layer_name, activation in zip(layer_names, activations):\n",
        "        if len(activation.shape) == 4:  # Если активация имеет 4 размерности (обычный сверточный слой)\n",
        "            n_features = activation.shape[-1]\n",
        "            size = int(n_features ** 0.5)\n",
        "            display_grid = np.zeros((size * activation.shape[1], size * activation.shape[2]))\n",
        "\n",
        "            for i in range(size):\n",
        "                for j in range(size):\n",
        "                    feature_map = activation[0, :, :, i * size + j]\n",
        "                    display_grid[i * activation.shape[1]:(i + 1) * activation.shape[1],\n",
        "                                 j * activation.shape[2]:(j + 1) * activation.shape[2]] = feature_map\n",
        "\n",
        "            scale = 20. / n_features\n",
        "            plt.figure(figsize=(scale * size, scale * size))\n",
        "            plt.title(layer_name)\n",
        "            plt.grid(False)\n",
        "            plt.imshow(display_grid, aspect='auto', cmap='viridis')\n",
        "\n",
        "        elif len(activation.shape) == 2:  # Если активация имеет 2 размерности (слой Flatten)\n",
        "            plt.figure()\n",
        "            plt.title(layer_name)\n",
        "            plt.grid(False)\n",
        "            plt.imshow(activation, cmap='viridis', aspect='auto')\n",
        "\n",
        "# Пример использования функции visualize_layer_activations\n",
        "input_image = X_test[0:1]\n",
        "layer_names = [layer.name for layer in model.layers]\n",
        "visualize_layer_activations(model, input_image, layer_names)\n"
      ],
      "metadata": {
        "id": "bKuQ000qswGz"
      },
      "execution_count": null,
      "outputs": []
    },
    {
      "cell_type": "code",
      "source": [
        "model.save(\"model.h5\")"
      ],
      "metadata": {
        "id": "0JJbLcrnm3rT"
      },
      "execution_count": null,
      "outputs": []
    },
    {
      "cell_type": "code",
      "source": [],
      "metadata": {
        "id": "xSo8L-RKphe-"
      },
      "execution_count": null,
      "outputs": []
    }
  ]
}