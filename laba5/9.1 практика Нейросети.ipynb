{
  "nbformat": 4,
  "nbformat_minor": 0,
  "metadata": {
    "colab": {
      "provenance": []
    },
    "kernelspec": {
      "name": "python3",
      "display_name": "Python 3"
    },
    "language_info": {
      "name": "python"
    }
  },
  "cells": [
    {
      "cell_type": "markdown",
      "source": [
        "###Простая нейросеть"
      ],
      "metadata": {
        "id": "uEfm9zsfR2mt"
      }
    },
    {
      "cell_type": "code",
      "execution_count": null,
      "metadata": {
        "id": "1garAoXu2tH7",
        "colab": {
          "base_uri": "https://localhost:8080/"
        },
        "outputId": "6de5c1d8-fdf1-44af-e74a-95d94b277eda"
      },
      "outputs": [
        {
          "output_type": "stream",
          "name": "stdout",
          "text": [
            "10/10 [==============================] - 1s 2ms/step - loss: 0.3767\n",
            "1/1 [==============================] - 0s 54ms/step\n",
            "[[0.10903557]\n",
            " [0.10880271]\n",
            " [0.1085698 ]\n",
            " [0.10833693]\n",
            " [0.10810404]]\n",
            "[[3.9626403]\n",
            " [3.958449 ]\n",
            " [3.9542563]\n",
            " [3.950065 ]\n",
            " [3.9458728]]\n"
          ]
        }
      ],
      "source": [
        "from keras.models import Sequential\n",
        "from keras.layers import Dense\n",
        "import numpy as np\n",
        "from sklearn.preprocessing import MinMaxScaler\n",
        "\n",
        "# Создаем данные для обучения\n",
        "x_train = np.array([1, 2, 3, 4, 5, 6, 7, 8, 9, 10])\n",
        "y_train = np.array([2, 4, 6, 8, 10, 12, 14, 16, 18, 20])\n",
        "\n",
        "# Используем MinMaxScaler для масштабирования данных\n",
        "scaler = MinMaxScaler()\n",
        "x_train = scaler.fit_transform(x_train.reshape(-1, 1))\n",
        "y_train = scaler.fit_transform(y_train.reshape(-1, 1))\n",
        "\n",
        "# Создаем модель\n",
        "model = Sequential()\n",
        "model.add(Dense(128, input_dim=1))\n",
        "model.add(Dense(1))\n",
        "\n",
        "\n",
        "# Компилируем модель\n",
        "model.compile(loss='mean_squared_error', optimizer='adam')\n",
        "\n",
        "# Обучаем модель\n",
        "model.fit(x_train, y_train, epochs=1, batch_size=1)\n",
        "\n",
        "# Масштабируем тестовые данные\n",
        "x_test = np.array([11, 12, 13, 14, 15])\n",
        "x_test = scaler.transform(x_test.reshape(-1, 1))\n",
        "\n",
        "y_pred = model.predict(x_test)\n",
        "print(y_pred)\n",
        "print(scaler.inverse_transform(y_pred))\n"
      ]
    },
    {
      "cell_type": "markdown",
      "source": [
        "###Нейросеть для бостонского датасета"
      ],
      "metadata": {
        "id": "8xDYZnRnSNWf"
      }
    },
    {
      "cell_type": "code",
      "source": [
        "\n",
        "import numpy as np\n",
        "import pandas as pd\n",
        "from sklearn.preprocessing import MinMaxScaler\n",
        "from sklearn.model_selection import train_test_split\n",
        "from keras.models import Sequential\n",
        "from keras.layers import Dense\n",
        "from sklearn.datasets import load_boston\n",
        "\n",
        "# Загрузим датасет с ценами на недвижимость в Бостоне\n",
        "boston = load_boston()\n",
        "\n",
        "# Разделим данные на признаки и целевую переменную\n",
        "X = boston.data\n",
        "y = boston.target"
      ],
      "metadata": {
        "id": "uwgT2tBm48zb"
      },
      "execution_count": null,
      "outputs": []
    },
    {
      "cell_type": "markdown",
      "source": [
        "# Нормализуем признаки"
      ],
      "metadata": {
        "id": "C7wbcLpPPlcr"
      }
    },
    {
      "cell_type": "code",
      "source": [],
      "metadata": {
        "id": "mBrae3XBPlm8"
      },
      "execution_count": null,
      "outputs": []
    },
    {
      "cell_type": "markdown",
      "source": [
        "# Разделим данные на обучающую и тестовую выборку"
      ],
      "metadata": {
        "id": "NwgxmQd0P2SD"
      }
    },
    {
      "cell_type": "code",
      "source": [],
      "metadata": {
        "id": "magmZnsAP2pt"
      },
      "execution_count": null,
      "outputs": []
    },
    {
      "cell_type": "markdown",
      "source": [
        "# Создадим модель нейронной сети"
      ],
      "metadata": {
        "id": "mtENJpM-P88v"
      }
    },
    {
      "cell_type": "code",
      "source": [],
      "metadata": {
        "id": "rkRMOIDPP9EJ"
      },
      "execution_count": null,
      "outputs": []
    },
    {
      "cell_type": "markdown",
      "source": [
        "# Компилируем модель"
      ],
      "metadata": {
        "id": "Lqpx2RwMQEu_"
      }
    },
    {
      "cell_type": "code",
      "source": [],
      "metadata": {
        "id": "U6TWmDYWQE5w"
      },
      "execution_count": null,
      "outputs": []
    },
    {
      "cell_type": "markdown",
      "source": [
        "# Обучаем модель"
      ],
      "metadata": {
        "id": "wIsK0ZEQQJO1"
      }
    },
    {
      "cell_type": "code",
      "source": [],
      "metadata": {
        "id": "rK1vV12jQJWU"
      },
      "execution_count": null,
      "outputs": []
    },
    {
      "cell_type": "markdown",
      "source": [
        "# Оценим качество модели на тестовых данных"
      ],
      "metadata": {
        "id": "gj8qYbgSQOqI"
      }
    },
    {
      "cell_type": "code",
      "source": [],
      "metadata": {
        "id": "mBotAnQJQOvZ"
      },
      "execution_count": null,
      "outputs": []
    },
    {
      "cell_type": "markdown",
      "source": [
        "##Описание признаков модели для классификации\n",
        "- radius (mean of distances from center to points on the perimeter) - среднее расстояние от центра опухоли до точек на периметре опухоли.\n",
        "- texture (standard deviation of gray-scale values) - стандартное отклонение значений серого цвета.\n",
        "- perimeter - периметр опухоли.\n",
        "- area - площадь опухоли.\n",
        "- smoothness (local variation in radius lengths) - локальная вариация в длинах радиусов опухоли.\n",
        "- compactness ($perimeter^2 / area - 1.0$) - компактность опухоли, определяется отношением квадрата периметра к площади минус 1.\n",
        "- concavity (severity of concave portions of the contour) - степень вогнутости контура опухоли.\n",
        "- concave points (number of concave portions of the contour) - количество вогнутых участков контура опухоли.\n",
        "- symmetry - симметрия опухоли.\n",
        "fractal dimension (\"coastline approximation\" - 1) - фрактальная размерность, описывает сложность границы опухоли в виде аппроксимации прибрежной линии."
      ],
      "metadata": {
        "id": "yA2H7YTgw2QD"
      }
    },
    {
      "cell_type": "code",
      "source": [
        "from sklearn.datasets import load_breast_cancer\n",
        "cancer = load_breast_cancer()\n",
        "print(cancer.DESCR)"
      ],
      "metadata": {
        "id": "KqKOczL-Qm0P"
      },
      "execution_count": null,
      "outputs": []
    },
    {
      "cell_type": "code",
      "source": [
        "from sklearn.neural_network import MLPClassifier\n",
        "mlp = MLPClassifier(hidden_layer_sizes=(10,), activation='relu', solver='adam')"
      ],
      "metadata": {
        "id": "rFSFcpdH1s7f"
      },
      "execution_count": null,
      "outputs": []
    },
    {
      "cell_type": "code",
      "source": [
        "from sklearn.neural_network import MLPClassifier\n",
        "from sklearn.model_selection import train_test_split\n",
        "from sklearn.metrics import accuracy_score, precision_score, recall_score, f1_score, confusion_matrix\n",
        "import pandas as pd\n",
        "from sklearn.datasets import load_breast_cancer\n",
        "\n",
        "# Загрузим датасет\n",
        "data = load_breast_cancer()\n",
        "\n",
        "# Выберем признаки для обучения\n",
        "X = data.data\n",
        "\n",
        "# Выберем целевую переменную (метку класса)\n",
        "y = data.target\n",
        "\n",
        "# Разобьем датасет на тренировочную и тестовую выборки\n",
        "X_train, X_test, y_train, y_test = train_test_split(X, y, test_size=0.3, random_state=42)\n",
        "\n",
        "# Обучим модель MLPClassifier\n",
        "clf = MLPClassifier(hidden_layer_sizes=(30,30,30))\n",
        "clf.fit(X_train, y_train)\n",
        "\n",
        "# Сделаем предсказания на тестовой выборке\n",
        "y_pred = clf.predict(X_test)\n",
        "\n",
        "# Оценим качество модели с помощью различных метрик\n",
        "accuracy = accuracy_score(y_test, y_pred)\n",
        "precision = precision_score(y_test, y_pred)\n",
        "recall = recall_score(y_test, y_pred)\n",
        "f1 = f1_score(y_test, y_pred)\n",
        "conf_matrix = confusion_matrix(y_test, y_pred)\n",
        "\n",
        "print(\"Accuracy:\", accuracy)\n",
        "print(\"Precision:\", precision)\n",
        "print(\"Recall:\", recall)\n",
        "print(\"F1-score:\", f1)\n",
        "print(\"Confusion matrix:\")\n",
        "print(conf_matrix)"
      ],
      "metadata": {
        "id": "cacNRQlV4L0n"
      },
      "execution_count": null,
      "outputs": []
    }
  ]
}